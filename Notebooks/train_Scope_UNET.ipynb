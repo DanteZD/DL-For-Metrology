{
  "nbformat": 4,
  "nbformat_minor": 0,
  "metadata": {
    "colab": {
      "provenance": [],
      "gpuType": "V100"
    },
    "kernelspec": {
      "name": "python3",
      "display_name": "Python 3"
    },
    "language_info": {
      "name": "python"
    },
    "gpuClass": "standard",
    "accelerator": "GPU"
  },
  "cells": [
    {
      "cell_type": "code",
      "source": [
        "#Getting acces to your google drive\n",
        "from google.colab import drive\n",
        "\n",
        "drive.mount('/content/drive', force_remount=True)"
      ],
      "metadata": {
        "id": "4LSwNQlpXLul",
        "colab": {
          "base_uri": "https://localhost:8080/"
        },
        "outputId": "7f6500b1-4c57-4860-8bad-a0b25b0be6cc"
      },
      "execution_count": null,
      "outputs": [
        {
          "output_type": "stream",
          "name": "stdout",
          "text": [
            "Mounted at /content/drive\n"
          ]
        }
      ]
    },
    {
      "cell_type": "code",
      "source": [
        "cd 'drive/My Drive/ColabNotebooks/UNET/scope/'"
      ],
      "metadata": {
        "id": "YRmVG7BTXO_M",
        "colab": {
          "base_uri": "https://localhost:8080/"
        },
        "outputId": "5a72e758-1024-4e5e-c982-d149109a4e7e"
      },
      "execution_count": null,
      "outputs": [
        {
          "output_type": "stream",
          "name": "stdout",
          "text": [
            "/content/drive/My Drive/ColabNotebooks/UNET/scope\n"
          ]
        }
      ]
    },
    {
      "cell_type": "code",
      "execution_count": null,
      "metadata": {
        "id": "z9PLRWKQ9Tcw"
      },
      "outputs": [],
      "source": [
        "import torch\n",
        "import torch.nn as nn\n",
        "import torch.optim as optim\n",
        "import torch.nn.functional as Fun\n",
        "from torch.utils.data import DataLoader\n",
        "from torch.utils.data import Dataset\n",
        "\n",
        "import torchvision\n",
        "import torchvision.transforms.functional as TF\n",
        "\n",
        "import albumentations as A\n",
        "from albumentations.pytorch import ToTensorV2\n",
        "\n",
        "import os\n",
        "from PIL import Image\n",
        "import numpy as np\n",
        "import cv2 as cv\n",
        "from tqdm import tqdm\n",
        "from matplotlib import pyplot as plt\n",
        "from keras.metrics import MeanIoU\n",
        "import csv\n",
        "import random\n",
        "import json\n",
        "from collections import defaultdict\n",
        "\n",
        "from matplotlib import pyplot as plt\n",
        "import pandas as pd"
      ]
    },
    {
      "cell_type": "code",
      "source": [
        "# UNET\n",
        "\n",
        "class DoubleConv(nn.Module):\n",
        "    \"\"\"\n",
        "    A double 3x3 same convolution followed by a Batch Normalization\n",
        "    layer and a ReLU Activation function each.\n",
        "    \"\"\"\n",
        "    def __init__(self, in_channels, out_channels):\n",
        "        super().__init__()\n",
        "        self.conv = nn.Sequential(\n",
        "            nn.Conv2d(in_channels, out_channels, kernel_size=3, stride=1, padding=1, bias=False),\n",
        "            nn.BatchNorm2d(out_channels),\n",
        "            nn.ReLU(inplace=True),\n",
        "            nn.Conv2d(out_channels, out_channels, kernel_size=3, stride=1, padding=1, bias=False),\n",
        "            nn.BatchNorm2d(out_channels),\n",
        "            nn.ReLU(inplace=True)\n",
        "        )\n",
        "\n",
        "    def forward(self, x):\n",
        "        return self.conv(x)\n",
        "\n",
        "\n",
        "class UNET(nn.Module):\n",
        "    \"\"\"\n",
        "    U-Net Network Architecture as described in: https://arxiv.org/abs/1505.04597\n",
        "    But making use of same convolutions and Batch Normalization.\n",
        "    \"\"\"\n",
        "    def __init__(self, in_channels, n_classes, features=[64, 128, 256, 512]):\n",
        "        super().__init__()\n",
        "        self.ups = nn.ModuleList()\n",
        "        self.downs = nn.ModuleList()\n",
        "        self.pool = nn.MaxPool2d(kernel_size=2, stride=2)\n",
        "\n",
        "        # Contracting path (down)\n",
        "        for feature in features:\n",
        "            self.downs.append(DoubleConv(in_channels, feature))\n",
        "            in_channels = feature\n",
        "\n",
        "        # Expanding path (up)\n",
        "        for feature in reversed(features):\n",
        "            self.ups.append(\n",
        "                nn.ConvTranspose2d(feature*2, feature, kernel_size=2, stride=2)\n",
        "            )\n",
        "            self.ups.append(DoubleConv(feature * 2, feature))\n",
        "\n",
        "        self.bottleneck = DoubleConv(features[-1], features[-1] * 2)\n",
        "        self.final_conv = nn.Conv2d(features[0], n_classes, kernel_size=1)\n",
        "\n",
        "\n",
        "    def forward(self, x):\n",
        "        skip_connections = []\n",
        "\n",
        "        for down in self.downs:\n",
        "            x = down(x)\n",
        "            skip_connections.append(x)\n",
        "            x = self.pool(x)\n",
        "\n",
        "        x = self.bottleneck(x)\n",
        "        skip_connections = skip_connections[::-1]\n",
        "\n",
        "        # Step size of 2 because ups contains a upsampling step follow by a double conv\n",
        "        for idx in range(0, len(self.ups), 2):\n",
        "            # Do the upsampling step\n",
        "            x = self.ups[idx](x)\n",
        "            feature_map = skip_connections[idx//2]\n",
        "\n",
        "            if x.shape != feature_map.shape:\n",
        "                x = TF.resize(x, size=feature_map.shape[2:])\n",
        "\n",
        "            # Concatenate decoder and encoder feature maps from corresponding levels\n",
        "            concat = torch.cat((feature_map, x), dim=1)\n",
        "            # Do the double convolutions\n",
        "            x = self.ups[idx+1](concat)\n",
        "\n",
        "        return self.final_conv(x)"
      ],
      "metadata": {
        "id": "2UQUoZrn-QLh"
      },
      "execution_count": null,
      "outputs": []
    },
    {
      "cell_type": "code",
      "source": [
        "# Dataset\n",
        "\n",
        "class SievesDataset(Dataset):\n",
        "    def __init__(self, image_list, image_dir, mask_dir, transform=None):\n",
        "        self.images = image_list\n",
        "        self.image_dir = image_dir\n",
        "        self.mask_dir = mask_dir\n",
        "        self.transform = transform\n",
        "\n",
        "    def __len__(self):\n",
        "        return len(self.images)\n",
        "\n",
        "    def __getitem__(self, index):\n",
        "        #Load image and corresponding mask\n",
        "        img_path = os.path.join(self.image_dir, self.images[index])\n",
        "        mask_path = os.path.join(self.mask_dir, self.images[index].replace(\".jpg\", \"_mask.png\"))\n",
        "        image = np.array(Image.open(img_path).convert(\"RGB\"))\n",
        "        mask = np.array(Image.open(mask_path).convert(\"L\"), dtype=np.float32)\n",
        "\n",
        "        # Preprocess mask (for binary)\n",
        "        mask[mask == 255.0] = 1\n",
        "\n",
        "        #Data augmentation\n",
        "        if self.transform is not None:\n",
        "            augmentations = self.transform(image=image, mask=mask)\n",
        "            image = augmentations[\"image\"]\n",
        "            mask = augmentations[\"mask\"]\n",
        "\n",
        "        return image, mask"
      ],
      "metadata": {
        "id": "4lG5SWfc-WhC"
      },
      "execution_count": null,
      "outputs": []
    },
    {
      "cell_type": "code",
      "source": [
        "# Utils\n",
        "\n",
        "class MetricTracker:\n",
        "    def __init__(self, n_classes):\n",
        "        self.total_mean_iou = MeanIoU(num_classes=n_classes)\n",
        "\n",
        "    def calculate_iou(self, preds, targets):\n",
        "        with torch.no_grad():\n",
        "            preds = torch.sigmoid(preds)\n",
        "            preds = (preds > 0.5).float()\n",
        "            preds = preds.cpu().numpy()\n",
        "\n",
        "            # Loop through an individual batch\n",
        "            for pred, target in zip(preds, targets):\n",
        "                target = target.cpu().numpy()\n",
        "                # Update to the IoU over all images in the batch\n",
        "                self.total_mean_iou.update_state(target, pred)\n",
        "\n",
        "    def get(self):\n",
        "        return self.total_mean_iou.result().numpy()\n",
        "\n",
        "\n",
        "def save_checkpoint(state, folder, filename):\n",
        "    print(\"=> Saving checkpoint\")\n",
        "    print(f\"Filename = {filename}\")\n",
        "    model_path = os.path.join(folder, filename)\n",
        "    torch.save(state, model_path)\n",
        "\n",
        "\n",
        "def load_checkpoint(model, folder, filename):\n",
        "    print(\"=> Loading checkpoint\")\n",
        "    print(f\"Filename = {filename}\")\n",
        "    checkpoint_path = os.path.join(folder, filename)\n",
        "    checkpoint = torch.load(checkpoint_path)\n",
        "    model.load_state_dict(checkpoint[\"state_dict\"])\n",
        "\n",
        "\n",
        "def get_loader(\n",
        "        image_list,\n",
        "        image_dir,\n",
        "        mask_dir,\n",
        "        batch_size,\n",
        "        transform,\n",
        "        num_workers=2,\n",
        "        pin_memory=True,\n",
        "):\n",
        "    # Create train dataset + specify the transforms / directories\n",
        "    ds = SievesDataset(\n",
        "        image_list,\n",
        "        image_dir=image_dir,\n",
        "        mask_dir=mask_dir,\n",
        "        transform=transform,\n",
        "    )\n",
        "\n",
        "    # Create training loader + specify training dataset and parameters + shuffle order randomly\n",
        "    loader = DataLoader(\n",
        "        ds,\n",
        "        batch_size=batch_size,\n",
        "        num_workers=num_workers,\n",
        "        pin_memory=pin_memory,\n",
        "        shuffle=True\n",
        "    )\n",
        "\n",
        "    return loader\n",
        "\n",
        "\n",
        "def compute_iou_per_class(mean_iou):\n",
        "    # Matrix: Row = true labels | Columns = predicted labels\n",
        "    # [0,0] = Number of pixels where, True label = 0 & Predicted label = 0\n",
        "    # [0,1] = Number of pixels where, True label = 0 & Predicted label = 1\n",
        "    pred_per_class = np.array(mean_iou.get_weights()[0])\n",
        "\n",
        "    # IoU per class\n",
        "    # Sum column and row 0 to get all the TP + FP + FN per class\n",
        "    # Subtract the diagonal not to double count TP's\n",
        "    sum_row = np.sum(pred_per_class, axis=1)\n",
        "    sum_column = np.sum(pred_per_class, axis=0)\n",
        "    # True Positives\n",
        "    diagonal = np.diagonal(pred_per_class)\n",
        "    # Union per class\n",
        "    union_per_class = sum_row + sum_column - diagonal\n",
        "\n",
        "    iou_per_class = diagonal/union_per_class\n",
        "\n",
        "    return iou_per_class\n",
        "\n",
        "\n",
        "def evaluate_model(loader, model, device=\"cuda\"):\n",
        "    n_classes = 2\n",
        "    mean_iou = MeanIoU(num_classes=n_classes)\n",
        "\n",
        "    # Evaluation mode\n",
        "    model.eval()\n",
        "\n",
        "    # Loop over batches\n",
        "    for x, labels in loader:\n",
        "        x = x.to(device)\n",
        "\n",
        "        with torch.no_grad():\n",
        "            preds = torch.sigmoid(model(x))\n",
        "            preds = (preds > 0.5).float()\n",
        "\n",
        "            # Loop through an individual batch\n",
        "            for pred, true_label in zip(preds, labels):\n",
        "                pred = pred.cpu().numpy()\n",
        "                true_label = true_label.cpu().numpy()\n",
        "\n",
        "                # Update to the IoU over all images in the batch\n",
        "                mean_iou.update_state(true_label, pred)\n",
        "\n",
        "    iou_per_class = compute_iou_per_class(mean_iou)\n",
        "\n",
        "    # Turn training mode back on\n",
        "    model.train()\n",
        "\n",
        "    return iou_per_class, mean_iou.result().numpy()\n",
        "\n",
        "\n",
        "def save_predictions_as_imgs(\n",
        "        loader, model, batch_size, folder, device=\"cuda\"\n",
        "):\n",
        "    # Check if directory exist or create a new\n",
        "    if not os.path.isdir(folder):\n",
        "        os.mkdir(folder)\n",
        "\n",
        "    # Evaluation mode\n",
        "    model.eval()\n",
        "\n",
        "    for idx_main, (x, labels), in enumerate(loader):\n",
        "        x = x.to(device=device)\n",
        "\n",
        "        with torch.no_grad():\n",
        "            preds = torch.sigmoid(model(x))\n",
        "            preds = (preds > 0.5).float()\n",
        "            preds = preds.cpu().numpy()\n",
        "\n",
        "            # Save images in batch as individual images for inspection\n",
        "            for idx_inner, (pred, true_label) in enumerate(zip(preds, labels)):\n",
        "                # Calculate ongoing unique image number\n",
        "                img_num = idx_main * batch_size + idx_inner\n",
        "\n",
        "                # Turn class labels to grayscale values for easy inspection\n",
        "                pred[pred == 1] = 255.0\n",
        "                # Turn class labels to grayscale values for easy inspection\n",
        "                true_label[true_label == 1] = 255.0\n",
        "\n",
        "                # Save predicted segmentations\n",
        "                cv.imwrite(f\"{folder}/pred_{img_num}.png\", pred.squeeze(0))\n",
        "                # Save corresponding true segmentations\n",
        "                cv.imwrite(f\"{folder}/true_{img_num}.png\", true_label.numpy())\n",
        "\n",
        "    # Turn training mode back on\n",
        "    model.train()\n",
        "\n",
        "\n",
        "def write_to_csv(csv_path, epoch=None, train_loss=None, train_miou=None,\n",
        "                 val_miou=None, class_iou=None, create_header=False, test_set=False):\n",
        "    # Write for test set evaluation\n",
        "    if test_set:\n",
        "        header = [\"mean_iou\", \"iou_class0\", \"iou_class1\"]\n",
        "        with open(csv_path, \"w\", encoding=\"UTF8\", newline=\"\") as csv_file:\n",
        "            writer = csv.writer(csv_file)\n",
        "            writer.writerow(header)\n",
        "            writer.writerow([val_miou, class_iou[0], class_iou[1]])\n",
        "\n",
        "        return\n",
        "\n",
        "    # Create new header for train / validation set\n",
        "    if create_header:\n",
        "        header = [\"epoch\", \"train_loss\", \"train_miou\", \"val_miou\", \"val_iou_class0\", \"val_iou_class1\"]\n",
        "        with open(csv_path, \"w\", encoding=\"UTF8\", newline=\"\") as csv_file:\n",
        "            writer = csv.writer(csv_file)\n",
        "            writer.writerow(header)\n",
        "\n",
        "        return\n",
        "\n",
        "    # Add data row to train / validation csv\n",
        "    with open(csv_path, \"a\", encoding=\"UTF8\", newline=\"\") as csv_file:\n",
        "        writer = csv.writer(csv_file)\n",
        "        writer.writerow([epoch, train_loss, train_miou, val_miou, class_iou[0], class_iou[1]])\n",
        "\n",
        "\n",
        "def save_splits(folder, train, val, test):\n",
        "    for file, name in zip([train, val, test], [\"train\", \"val\", \"test\"]):\n",
        "        with open(f\"{folder}/{name}_split.json\", \"w\") as f:\n",
        "            json.dump(file, f, indent=2)\n",
        "\n",
        "\n",
        "def plot_train_val(model_dir, model_name):\n",
        "    # Plot training / validation metrics\n",
        "    # Read in the data into a pandas dataframe\n",
        "    df = pd.read_csv(f\"{model_dir}{model_name}.csv\")\n",
        "\n",
        "    # Training loss\n",
        "    plt.plot(df[\"epoch\"], df[\"train_loss\"])\n",
        "    plt.xlabel('Number of Epochs')\n",
        "    plt.ylabel('Training Loss')\n",
        "    plt.title(\"Training Loss per Epoch\")\n",
        "    plt.locator_params(axis=\"x\", integer=True, tight=True)\n",
        "    plt.show()\n",
        "\n",
        "    # Training mIoU\n",
        "    plt.plot(df[\"epoch\"], df[\"train_miou\"])\n",
        "    plt.plot(df[\"epoch\"], df[\"val_miou\"])\n",
        "    plt.xlabel('Number of Epochs')\n",
        "    plt.ylabel('Mean IoU')\n",
        "    plt.title(\"Mean IoU per Epoch\")\n",
        "    plt.locator_params(axis=\"x\", integer=True, tight=True)\n",
        "    plt.legend([\"Train\", \"Validation\"])\n",
        "    plt.show()\n",
        "\n",
        "    # Validation Class IoU\n",
        "    plt.plot(df[\"epoch\"], df[\"val_iou_class0\"], color=\"red\")\n",
        "    plt.plot(df[\"epoch\"], df[\"val_iou_class1\"], color=\"blue\")\n",
        "    plt.xlabel('Number of Epochs')\n",
        "    plt.ylabel('Validation Class IoU')\n",
        "    plt.title(\"Validation Class IoU per Epoch\")\n",
        "    plt.locator_params(axis=\"x\", integer=True, tight=True)\n",
        "    plt.legend([\"Class 0 (Background)\", \"Class 1 (Scope)\"])\n",
        "    plt.show()"
      ],
      "metadata": {
        "id": "gB5Eislw-uDZ"
      },
      "execution_count": null,
      "outputs": []
    },
    {
      "cell_type": "code",
      "source": [
        "# Train\n",
        "\n",
        "# Hyper parameters & settings\n",
        "LEARNING_RATE = 1e-4\n",
        "DEVICE = \"cuda\" if torch.cuda.is_available() else \"cpu\"\n",
        "BATCH_SIZE = 7\n",
        "NUM_EPOCHS = 50\n",
        "NUM_WORKERS = 2\n",
        "IMAGE_HEIGHT = 720\n",
        "IMAGE_WIDTH = 720\n",
        "PIN_MEMORY = True\n",
        "LOAD_MODEL = False\n",
        "IMAGE_DIR = \"data/images/\"\n",
        "MASK_DIR = \"data/masks/\"\n",
        "SAVED_IMAGES_DIR = \"saved_images/\"\n",
        "MODEL_DIR = 'saved_models/'\n",
        "MODEL_NAME = f'epochs{NUM_EPOCHS}_batch{BATCH_SIZE}_h{IMAGE_HEIGHT}_w{IMAGE_WIDTH}_lr{LEARNING_RATE}_RandomResizedCrops_BCE'\n",
        "N_CLASSES = 1\n",
        "TRAIN_RATIO = 0.8               # 80%\n",
        "VAL_RATIO = TRAIN_RATIO + 0.1   # 10% | Remaining % -> 10% is for the test set\n",
        "\n",
        "\n",
        "def train_fn(loader, model, optimizer, loss_fn, scaler, epoch):\n",
        "    loop = tqdm(loader)\n",
        "    epoch_metrics = MetricTracker(2)\n",
        "\n",
        "    for batch_idx, (data, targets) in enumerate(loop):\n",
        "        data = data.to(device=DEVICE)\n",
        "        targets = targets.float().unsqueeze(1).to(device=DEVICE)\n",
        "\n",
        "        # forward\n",
        "        with torch.cuda.amp.autocast():\n",
        "            predictions = model(data)\n",
        "            loss = loss_fn(predictions, targets)\n",
        "\n",
        "            # Full epoch metrics: cumulative metrics of the batches\n",
        "            epoch_metrics.calculate_iou(predictions, targets)\n",
        "\n",
        "        # backwards\n",
        "        optimizer.zero_grad()\n",
        "        scaler.scale(loss).backward()\n",
        "        scaler.step(optimizer)\n",
        "        scaler.update()\n",
        "\n",
        "        # update tqdm loop\n",
        "        loop.set_description(f\"Epoch: {epoch}/{NUM_EPOCHS}\")\n",
        "        loop.set_postfix(loss=loss.item())\n",
        "\n",
        "    return loss.item(), epoch_metrics.get()"
      ],
      "metadata": {
        "id": "ofC82mre_vlH"
      },
      "execution_count": null,
      "outputs": []
    },
    {
      "cell_type": "code",
      "source": [
        "# RUN\n",
        "\n",
        "train_transform = A.Compose(\n",
        "        [\n",
        "            A.RandomResizedCrop(width=IMAGE_WIDTH, height=IMAGE_HEIGHT, scale=(0.1, 1.0), p=1.0),\n",
        "            A.Rotate(limit=35, p=1.0),\n",
        "            A.HorizontalFlip(p=0.5),\n",
        "            A.VerticalFlip(p=0.1),\n",
        "            A.Normalize(\n",
        "                mean=[0.0, 0.0, 0.0],\n",
        "                std=[1.0, 1.0, 1.0],\n",
        "                max_pixel_value=255.0\n",
        "            ),\n",
        "            ToTensorV2()\n",
        "        ]\n",
        "    )\n",
        "\n",
        "val_transform = A.Compose(\n",
        "    [\n",
        "        A.Resize(height=IMAGE_HEIGHT, width=IMAGE_WIDTH),\n",
        "        A.Normalize(\n",
        "            mean=[0.0, 0.0, 0.0],\n",
        "            std=[1.0, 1.0, 1.0],\n",
        "            max_pixel_value=255.0\n",
        "        ),\n",
        "        ToTensorV2()\n",
        "    ]\n",
        ")\n",
        "\n",
        "# Create train / val / test split randomly\n",
        "all_images = os.listdir(IMAGE_DIR)\n",
        "random.seed(42)\n",
        "random.shuffle(all_images)\n",
        "train_split, val_split, test_split = np.split(\n",
        "    all_images,\n",
        "    [int(TRAIN_RATIO * len(all_images)), int(VAL_RATIO * len(all_images))]\n",
        ")\n",
        "\n",
        "# Save splits for later evaluation -> especially the test split for this trained model\n",
        "save_splits(MODEL_DIR, list(train_split), list(val_split), list(test_split))\n",
        "\n",
        "train_loader = get_loader(train_split, IMAGE_DIR, MASK_DIR, BATCH_SIZE,\n",
        "                        train_transform, NUM_WORKERS, PIN_MEMORY\n",
        "                        )\n",
        "\n",
        "val_loader = get_loader(val_split, IMAGE_DIR, MASK_DIR, BATCH_SIZE,\n",
        "                        val_transform, NUM_WORKERS, PIN_MEMORY\n",
        "                        )\n",
        "\n",
        "print(\n",
        "    f\"Training for: {NUM_EPOCHS} epochs | Batchsize : {BATCH_SIZE} | WxH: {IMAGE_WIDTH}x{IMAGE_HEIGHT} | LR: {LEARNING_RATE}\")\n",
        "\n",
        "model = UNET(in_channels=3, n_classes=N_CLASSES).to(DEVICE)\n",
        "loss_fn = nn.BCEWithLogitsLoss()\n",
        "optimizer = optim.Adam(model.parameters(), lr=LEARNING_RATE)\n",
        "\n",
        "# Load model for further training\n",
        "if LOAD_MODEL:\n",
        "    load_checkpoint(model, f\"trained_models/epochs50_batch7_h720_w720_lr0.0001_RandomResizedCrops/\", f\"epochs50_batch7_h720_w720_lr0.0001_RandomResizedCrops.pth.tar\")\n",
        "\n",
        "# Gradient scaling, inorder to prevent vanishing or exploding gradients\n",
        "scaler = torch.cuda.amp.GradScaler()\n",
        "\n",
        "# Dummy variable model performance comparison\n",
        "# Holding the epoch & Mean_IoU of when the model performed best\n",
        "best_mean_iou = (0, -1)\n",
        "\n",
        "csv_path = os.path.join(MODEL_DIR, f\"{MODEL_NAME}.csv\")\n",
        "write_to_csv(csv_path, create_header=True)\n",
        "\n",
        "# Training Loop\n",
        "for epoch in range(NUM_EPOCHS):\n",
        "    # Train model and return the loss\n",
        "    train_loss, train_miou = train_fn(train_loader, model, optimizer, loss_fn, scaler, epoch + 1)\n",
        "\n",
        "    # Save model\n",
        "    checkpoint = {\n",
        "        \"state_dict\": model.state_dict(),\n",
        "        \"optimizer\": optimizer.state_dict(),\n",
        "    }\n",
        "\n",
        "    # Evaluate the current training epoch on the validation data\n",
        "    val_class_iou, val_miou = evaluate_model(val_loader, model, device=DEVICE)\n",
        "    write_to_csv(csv_path, epoch + 1, train_loss, train_miou, val_miou, val_class_iou)\n",
        "\n",
        "    print(f\"Train mIoU: {train_miou} | Validation mIoU: {val_miou} | Validation Class IoU: {val_class_iou}\")\n",
        "\n",
        "    if val_miou > best_mean_iou[1]:\n",
        "        print(\n",
        "            f\"New best validation mIoU: {val_miou} | Previous best mIoU: {best_mean_iou[1]} in epoch: {best_mean_iou[0]}.\")\n",
        "        # save_checkpoint(checkpoint, folder=f\"saved_models/\", filename=f\"checkpoint_epoch{epoch+1}.pth.tar\")\n",
        "        # For now just overwrite previous best model\n",
        "        save_checkpoint(checkpoint, folder=MODEL_DIR, filename=f\"{MODEL_NAME}.pth.tar\")\n",
        "\n",
        "        # Save some examples to a folder for inspection\n",
        "        save_predictions_as_imgs(\n",
        "            val_loader, model, BATCH_SIZE, folder=f\"{SAVED_IMAGES_DIR}/epoch{epoch + 1}/\", device=DEVICE\n",
        "        )\n",
        "\n",
        "        # Update best IoU\n",
        "        best_mean_iou = (epoch + 1, val_miou)"
      ],
      "metadata": {
        "id": "9ImYoiPT_3Ec",
        "colab": {
          "base_uri": "https://localhost:8080/"
        },
        "outputId": "23dbc4a8-4d8e-4f5b-89fe-d8eee212aa27"
      },
      "execution_count": null,
      "outputs": [
        {
          "output_type": "stream",
          "name": "stdout",
          "text": [
            "Training for: 50 epochs | Batchsize : 7 | WxH: 720x720 | LR: 1e-05\n",
            "=> Loading checkpoint\n",
            "Filename = epochs50_batch7_h720_w720_lr0.0001_RandomResizedCrops.pth.tar\n"
          ]
        },
        {
          "output_type": "stream",
          "name": "stderr",
          "text": [
            "Epoch: 1/50: 100%|██████████| 81/81 [02:17<00:00,  1.70s/it, loss=0.0308]\n"
          ]
        },
        {
          "output_type": "stream",
          "name": "stdout",
          "text": [
            "Train mIoU: 0.9894136190414429 | Validation mIoU: 0.988984227180481 | Validation Class IoU: [0.9879916 0.9899769]\n",
            "New best validation mIoU: 0.988984227180481 | Previous best mIoU: -1 in epoch: 0.\n",
            "=> Saving checkpoint\n",
            "Filename = epochs100_batch7_h720_w720_lr1e-05_RandomResizedCrops.pth.tar\n"
          ]
        },
        {
          "output_type": "stream",
          "name": "stderr",
          "text": [
            "Epoch: 2/50: 100%|██████████| 81/81 [00:46<00:00,  1.74it/s, loss=0.0193]\n"
          ]
        },
        {
          "output_type": "stream",
          "name": "stdout",
          "text": [
            "Train mIoU: 0.9881020784378052 | Validation mIoU: 0.9901455640792847 | Validation Class IoU: [0.989255   0.99103606]\n",
            "New best validation mIoU: 0.9901455640792847 | Previous best mIoU: 0.988984227180481 in epoch: 1.\n",
            "=> Saving checkpoint\n",
            "Filename = epochs100_batch7_h720_w720_lr1e-05_RandomResizedCrops.pth.tar\n"
          ]
        },
        {
          "output_type": "stream",
          "name": "stderr",
          "text": [
            "Epoch: 3/50: 100%|██████████| 81/81 [00:52<00:00,  1.55it/s, loss=0.0108]\n"
          ]
        },
        {
          "output_type": "stream",
          "name": "stdout",
          "text": [
            "Train mIoU: 0.9882151484489441 | Validation mIoU: 0.9839761257171631 | Validation Class IoU: [0.9825855 0.9853667]\n"
          ]
        },
        {
          "output_type": "stream",
          "name": "stderr",
          "text": [
            "Epoch: 4/50: 100%|██████████| 81/81 [00:45<00:00,  1.77it/s, loss=0.0106]\n"
          ]
        },
        {
          "output_type": "stream",
          "name": "stdout",
          "text": [
            "Train mIoU: 0.9906305074691772 | Validation mIoU: 0.9887335896492004 | Validation Class IoU: [0.98772967 0.9897375 ]\n"
          ]
        },
        {
          "output_type": "stream",
          "name": "stderr",
          "text": [
            "Epoch: 5/50: 100%|██████████| 81/81 [00:47<00:00,  1.72it/s, loss=0.00819]\n"
          ]
        },
        {
          "output_type": "stream",
          "name": "stdout",
          "text": [
            "Train mIoU: 0.9902188181877136 | Validation mIoU: 0.9900593757629395 | Validation Class IoU: [0.9891673  0.99095154]\n"
          ]
        },
        {
          "output_type": "stream",
          "name": "stderr",
          "text": [
            "Epoch: 6/50: 100%|██████████| 81/81 [00:46<00:00,  1.75it/s, loss=0.00976]\n"
          ]
        },
        {
          "output_type": "stream",
          "name": "stdout",
          "text": [
            "Train mIoU: 0.9902681112289429 | Validation mIoU: 0.9900741577148438 | Validation Class IoU: [0.9891829  0.99096537]\n"
          ]
        },
        {
          "output_type": "stream",
          "name": "stderr",
          "text": [
            "Epoch: 7/50: 100%|██████████| 81/81 [00:46<00:00,  1.74it/s, loss=0.00723]\n"
          ]
        },
        {
          "output_type": "stream",
          "name": "stdout",
          "text": [
            "Train mIoU: 0.989472508430481 | Validation mIoU: 0.9883886575698853 | Validation Class IoU: [0.9873638 0.9894135]\n"
          ]
        },
        {
          "output_type": "stream",
          "name": "stderr",
          "text": [
            "Epoch: 8/50: 100%|██████████| 81/81 [00:46<00:00,  1.75it/s, loss=0.0183]\n"
          ]
        },
        {
          "output_type": "stream",
          "name": "stdout",
          "text": [
            "Train mIoU: 0.9910414814949036 | Validation mIoU: 0.990256667137146 | Validation Class IoU: [0.98938495 0.9911284 ]\n",
            "New best validation mIoU: 0.990256667137146 | Previous best mIoU: 0.9901455640792847 in epoch: 2.\n",
            "=> Saving checkpoint\n",
            "Filename = epochs100_batch7_h720_w720_lr1e-05_RandomResizedCrops.pth.tar\n"
          ]
        },
        {
          "output_type": "stream",
          "name": "stderr",
          "text": [
            "Epoch: 9/50: 100%|██████████| 81/81 [00:47<00:00,  1.72it/s, loss=0.00737]\n"
          ]
        },
        {
          "output_type": "stream",
          "name": "stdout",
          "text": [
            "Train mIoU: 0.9903570413589478 | Validation mIoU: 0.983394980430603 | Validation Class IoU: [0.9819664 0.9848236]\n"
          ]
        },
        {
          "output_type": "stream",
          "name": "stderr",
          "text": [
            "Epoch: 10/50: 100%|██████████| 81/81 [00:46<00:00,  1.74it/s, loss=0.00871]\n"
          ]
        },
        {
          "output_type": "stream",
          "name": "stdout",
          "text": [
            "Train mIoU: 0.9904356598854065 | Validation mIoU: 0.9915115237236023 | Validation Class IoU: [0.9907422  0.99228084]\n",
            "New best validation mIoU: 0.9915115237236023 | Previous best mIoU: 0.990256667137146 in epoch: 8.\n",
            "=> Saving checkpoint\n",
            "Filename = epochs100_batch7_h720_w720_lr1e-05_RandomResizedCrops.pth.tar\n"
          ]
        },
        {
          "output_type": "stream",
          "name": "stderr",
          "text": [
            "Epoch: 11/50: 100%|██████████| 81/81 [00:48<00:00,  1.68it/s, loss=0.00946]\n"
          ]
        },
        {
          "output_type": "stream",
          "name": "stdout",
          "text": [
            "Train mIoU: 0.9898069500923157 | Validation mIoU: 0.9905997514724731 | Validation Class IoU: [0.98975563 0.9914439 ]\n"
          ]
        },
        {
          "output_type": "stream",
          "name": "stderr",
          "text": [
            "Epoch: 12/50: 100%|██████████| 81/81 [00:46<00:00,  1.75it/s, loss=0.012]\n"
          ]
        },
        {
          "output_type": "stream",
          "name": "stdout",
          "text": [
            "Train mIoU: 0.9886820316314697 | Validation mIoU: 0.9830992221832275 | Validation Class IoU: [0.9816226  0.98457587]\n"
          ]
        },
        {
          "output_type": "stream",
          "name": "stderr",
          "text": [
            "Epoch: 13/50: 100%|██████████| 81/81 [00:46<00:00,  1.74it/s, loss=0.00739]\n"
          ]
        },
        {
          "output_type": "stream",
          "name": "stdout",
          "text": [
            "Train mIoU: 0.98966383934021 | Validation mIoU: 0.991165816783905 | Validation Class IoU: [0.99036425 0.9919674 ]\n"
          ]
        },
        {
          "output_type": "stream",
          "name": "stderr",
          "text": [
            "Epoch: 14/50: 100%|██████████| 81/81 [00:46<00:00,  1.76it/s, loss=0.00779]\n"
          ]
        },
        {
          "output_type": "stream",
          "name": "stdout",
          "text": [
            "Train mIoU: 0.9897689819335938 | Validation mIoU: 0.9894354343414307 | Validation Class IoU: [0.9884907 0.9903801]\n"
          ]
        },
        {
          "output_type": "stream",
          "name": "stderr",
          "text": [
            "Epoch: 15/50: 100%|██████████| 81/81 [00:46<00:00,  1.73it/s, loss=0.0303]\n"
          ]
        },
        {
          "output_type": "stream",
          "name": "stdout",
          "text": [
            "Train mIoU: 0.9893741607666016 | Validation mIoU: 0.9905661344528198 | Validation Class IoU: [0.9897219  0.99141043]\n"
          ]
        },
        {
          "output_type": "stream",
          "name": "stderr",
          "text": [
            "Epoch: 16/50: 100%|██████████| 81/81 [00:46<00:00,  1.75it/s, loss=0.00795]\n"
          ]
        },
        {
          "output_type": "stream",
          "name": "stdout",
          "text": [
            "Train mIoU: 0.9908872842788696 | Validation mIoU: 0.9899085760116577 | Validation Class IoU: [0.9890082  0.99080896]\n"
          ]
        },
        {
          "output_type": "stream",
          "name": "stderr",
          "text": [
            "Epoch: 17/50: 100%|██████████| 81/81 [00:47<00:00,  1.72it/s, loss=0.0108]\n"
          ]
        },
        {
          "output_type": "stream",
          "name": "stdout",
          "text": [
            "Train mIoU: 0.9895750284194946 | Validation mIoU: 0.9860072731971741 | Validation Class IoU: [0.9847859  0.98722863]\n"
          ]
        },
        {
          "output_type": "stream",
          "name": "stderr",
          "text": [
            "Epoch: 18/50: 100%|██████████| 81/81 [00:46<00:00,  1.74it/s, loss=0.00736]\n"
          ]
        },
        {
          "output_type": "stream",
          "name": "stdout",
          "text": [
            "Train mIoU: 0.990085244178772 | Validation mIoU: 0.9890488386154175 | Validation Class IoU: [0.98807216 0.9900255 ]\n"
          ]
        },
        {
          "output_type": "stream",
          "name": "stderr",
          "text": [
            "Epoch: 19/50: 100%|██████████| 81/81 [00:46<00:00,  1.74it/s, loss=0.0069]\n"
          ]
        },
        {
          "output_type": "stream",
          "name": "stdout",
          "text": [
            "Train mIoU: 0.9911706447601318 | Validation mIoU: 0.9899193048477173 | Validation Class IoU: [0.989019  0.9908196]\n"
          ]
        },
        {
          "output_type": "stream",
          "name": "stderr",
          "text": [
            "Epoch: 20/50: 100%|██████████| 81/81 [00:46<00:00,  1.75it/s, loss=0.00664]\n"
          ]
        },
        {
          "output_type": "stream",
          "name": "stdout",
          "text": [
            "Train mIoU: 0.9899284839630127 | Validation mIoU: 0.9897197484970093 | Validation Class IoU: [0.98880047 0.99063903]\n"
          ]
        },
        {
          "output_type": "stream",
          "name": "stderr",
          "text": [
            "Epoch: 21/50: 100%|██████████| 81/81 [00:46<00:00,  1.73it/s, loss=0.0314]\n"
          ]
        },
        {
          "output_type": "stream",
          "name": "stdout",
          "text": [
            "Train mIoU: 0.9904649257659912 | Validation mIoU: 0.9913421273231506 | Validation Class IoU: [0.9905574 0.9921269]\n"
          ]
        },
        {
          "output_type": "stream",
          "name": "stderr",
          "text": [
            "Epoch: 22/50: 100%|██████████| 81/81 [00:46<00:00,  1.76it/s, loss=0.0177]\n"
          ]
        },
        {
          "output_type": "stream",
          "name": "stdout",
          "text": [
            "Train mIoU: 0.9895899295806885 | Validation mIoU: 0.9917381405830383 | Validation Class IoU: [0.9909926 0.9924837]\n",
            "New best validation mIoU: 0.9917381405830383 | Previous best mIoU: 0.9915115237236023 in epoch: 10.\n",
            "=> Saving checkpoint\n",
            "Filename = epochs100_batch7_h720_w720_lr1e-05_RandomResizedCrops.pth.tar\n"
          ]
        },
        {
          "output_type": "stream",
          "name": "stderr",
          "text": [
            "Epoch: 23/50: 100%|██████████| 81/81 [00:47<00:00,  1.72it/s, loss=0.00735]\n"
          ]
        },
        {
          "output_type": "stream",
          "name": "stdout",
          "text": [
            "Train mIoU: 0.9903604984283447 | Validation mIoU: 0.9894722700119019 | Validation Class IoU: [0.98853475 0.99040973]\n"
          ]
        },
        {
          "output_type": "stream",
          "name": "stderr",
          "text": [
            "Epoch: 24/50: 100%|██████████| 81/81 [00:46<00:00,  1.75it/s, loss=0.00957]\n"
          ]
        },
        {
          "output_type": "stream",
          "name": "stdout",
          "text": [
            "Train mIoU: 0.9916404485702515 | Validation mIoU: 0.989971399307251 | Validation Class IoU: [0.98907226 0.9908706 ]\n"
          ]
        },
        {
          "output_type": "stream",
          "name": "stderr",
          "text": [
            "Epoch: 25/50: 100%|██████████| 81/81 [00:46<00:00,  1.75it/s, loss=0.0067]\n"
          ]
        },
        {
          "output_type": "stream",
          "name": "stdout",
          "text": [
            "Train mIoU: 0.9905130863189697 | Validation mIoU: 0.9899015426635742 | Validation Class IoU: [0.9889965 0.9908066]\n"
          ]
        },
        {
          "output_type": "stream",
          "name": "stderr",
          "text": [
            "Epoch: 26/50: 100%|██████████| 81/81 [00:46<00:00,  1.76it/s, loss=0.0189]\n"
          ]
        },
        {
          "output_type": "stream",
          "name": "stdout",
          "text": [
            "Train mIoU: 0.98884516954422 | Validation mIoU: 0.9887164831161499 | Validation Class IoU: [0.98771554 0.9897175 ]\n"
          ]
        },
        {
          "output_type": "stream",
          "name": "stderr",
          "text": [
            "Epoch: 27/50: 100%|██████████| 81/81 [00:47<00:00,  1.72it/s, loss=0.0069]\n"
          ]
        },
        {
          "output_type": "stream",
          "name": "stdout",
          "text": [
            "Train mIoU: 0.9908381700515747 | Validation mIoU: 0.9923207759857178 | Validation Class IoU: [0.9916222  0.99301934]\n",
            "New best validation mIoU: 0.9923207759857178 | Previous best mIoU: 0.9917381405830383 in epoch: 22.\n",
            "=> Saving checkpoint\n",
            "Filename = epochs100_batch7_h720_w720_lr1e-05_RandomResizedCrops.pth.tar\n"
          ]
        },
        {
          "output_type": "stream",
          "name": "stderr",
          "text": [
            "Epoch: 28/50: 100%|██████████| 81/81 [00:48<00:00,  1.68it/s, loss=0.00785]\n"
          ]
        },
        {
          "output_type": "stream",
          "name": "stdout",
          "text": [
            "Train mIoU: 0.9909745454788208 | Validation mIoU: 0.9910181164741516 | Validation Class IoU: [0.9902059  0.99183035]\n"
          ]
        },
        {
          "output_type": "stream",
          "name": "stderr",
          "text": [
            "Epoch: 29/50: 100%|██████████| 81/81 [00:47<00:00,  1.70it/s, loss=0.00533]\n"
          ]
        },
        {
          "output_type": "stream",
          "name": "stdout",
          "text": [
            "Train mIoU: 0.991570234298706 | Validation mIoU: 0.9912437200546265 | Validation Class IoU: [0.99045396 0.9920334 ]\n"
          ]
        },
        {
          "output_type": "stream",
          "name": "stderr",
          "text": [
            "Epoch: 30/50: 100%|██████████| 81/81 [00:49<00:00,  1.62it/s, loss=0.00692]\n"
          ]
        },
        {
          "output_type": "stream",
          "name": "stdout",
          "text": [
            "Train mIoU: 0.99085533618927 | Validation mIoU: 0.9909571409225464 | Validation Class IoU: [0.9901325 0.9917817]\n"
          ]
        },
        {
          "output_type": "stream",
          "name": "stderr",
          "text": [
            "Epoch: 31/50: 100%|██████████| 81/81 [00:47<00:00,  1.71it/s, loss=0.0116]\n"
          ]
        },
        {
          "output_type": "stream",
          "name": "stdout",
          "text": [
            "Train mIoU: 0.9896701574325562 | Validation mIoU: 0.9912023544311523 | Validation Class IoU: [0.9904081 0.9919966]\n"
          ]
        },
        {
          "output_type": "stream",
          "name": "stderr",
          "text": [
            "Epoch: 32/50: 100%|██████████| 81/81 [00:49<00:00,  1.65it/s, loss=0.00971]\n"
          ]
        },
        {
          "output_type": "stream",
          "name": "stdout",
          "text": [
            "Train mIoU: 0.991138219833374 | Validation mIoU: 0.9921538233757019 | Validation Class IoU: [0.991436   0.99287164]\n"
          ]
        },
        {
          "output_type": "stream",
          "name": "stderr",
          "text": [
            "Epoch: 33/50: 100%|██████████| 81/81 [00:48<00:00,  1.67it/s, loss=0.00723]\n"
          ]
        },
        {
          "output_type": "stream",
          "name": "stdout",
          "text": [
            "Train mIoU: 0.9916501045227051 | Validation mIoU: 0.9917422533035278 | Validation Class IoU: [0.9909934  0.99249107]\n"
          ]
        },
        {
          "output_type": "stream",
          "name": "stderr",
          "text": [
            "Epoch: 34/50: 100%|██████████| 81/81 [00:47<00:00,  1.69it/s, loss=0.00833]\n"
          ]
        },
        {
          "output_type": "stream",
          "name": "stdout",
          "text": [
            "Train mIoU: 0.9915476441383362 | Validation mIoU: 0.9913386702537537 | Validation Class IoU: [0.99055946 0.9921179 ]\n"
          ]
        },
        {
          "output_type": "stream",
          "name": "stderr",
          "text": [
            "Epoch: 35/50: 100%|██████████| 81/81 [00:47<00:00,  1.72it/s, loss=0.00755]\n"
          ]
        },
        {
          "output_type": "stream",
          "name": "stdout",
          "text": [
            "Train mIoU: 0.9897406101226807 | Validation mIoU: 0.9910113215446472 | Validation Class IoU: [0.9901956 0.9918271]\n"
          ]
        },
        {
          "output_type": "stream",
          "name": "stderr",
          "text": [
            "Epoch: 36/50: 100%|██████████| 81/81 [00:47<00:00,  1.71it/s, loss=0.00747]\n"
          ]
        },
        {
          "output_type": "stream",
          "name": "stdout",
          "text": [
            "Train mIoU: 0.9900932312011719 | Validation mIoU: 0.992112398147583 | Validation Class IoU: [0.99139935 0.9928255 ]\n"
          ]
        },
        {
          "output_type": "stream",
          "name": "stderr",
          "text": [
            "Epoch: 37/50: 100%|██████████| 81/81 [00:46<00:00,  1.73it/s, loss=0.00784]\n"
          ]
        },
        {
          "output_type": "stream",
          "name": "stdout",
          "text": [
            "Train mIoU: 0.990885317325592 | Validation mIoU: 0.9922490119934082 | Validation Class IoU: [0.99154615 0.99295187]\n"
          ]
        },
        {
          "output_type": "stream",
          "name": "stderr",
          "text": [
            "Epoch: 38/50: 100%|██████████| 81/81 [00:47<00:00,  1.72it/s, loss=0.00824]\n"
          ]
        },
        {
          "output_type": "stream",
          "name": "stdout",
          "text": [
            "Train mIoU: 0.990635335445404 | Validation mIoU: 0.9899874925613403 | Validation Class IoU: [0.98909307 0.990882  ]\n"
          ]
        },
        {
          "output_type": "stream",
          "name": "stderr",
          "text": [
            "Epoch: 39/50: 100%|██████████| 81/81 [00:46<00:00,  1.73it/s, loss=0.00915]\n"
          ]
        },
        {
          "output_type": "stream",
          "name": "stdout",
          "text": [
            "Train mIoU: 0.9904948472976685 | Validation mIoU: 0.9920263886451721 | Validation Class IoU: [0.99130356 0.9927492 ]\n"
          ]
        },
        {
          "output_type": "stream",
          "name": "stderr",
          "text": [
            "Epoch: 40/50: 100%|██████████| 81/81 [00:49<00:00,  1.64it/s, loss=0.00967]\n"
          ]
        },
        {
          "output_type": "stream",
          "name": "stdout",
          "text": [
            "Train mIoU: 0.9906771183013916 | Validation mIoU: 0.991675853729248 | Validation Class IoU: [0.9909179 0.9924338]\n"
          ]
        },
        {
          "output_type": "stream",
          "name": "stderr",
          "text": [
            "Epoch: 41/50: 100%|██████████| 81/81 [00:47<00:00,  1.69it/s, loss=0.00587]\n"
          ]
        },
        {
          "output_type": "stream",
          "name": "stdout",
          "text": [
            "Train mIoU: 0.9921935200691223 | Validation mIoU: 0.9919361472129822 | Validation Class IoU: [0.99120545 0.99266684]\n"
          ]
        },
        {
          "output_type": "stream",
          "name": "stderr",
          "text": [
            "Epoch: 42/50: 100%|██████████| 81/81 [00:47<00:00,  1.69it/s, loss=0.00447]\n"
          ]
        },
        {
          "output_type": "stream",
          "name": "stdout",
          "text": [
            "Train mIoU: 0.9913472533226013 | Validation mIoU: 0.9912683367729187 | Validation Class IoU: [0.99047977 0.9920569 ]\n"
          ]
        },
        {
          "output_type": "stream",
          "name": "stderr",
          "text": [
            "Epoch: 43/50: 100%|██████████| 81/81 [00:47<00:00,  1.70it/s, loss=0.00589]\n"
          ]
        },
        {
          "output_type": "stream",
          "name": "stdout",
          "text": [
            "Train mIoU: 0.9913894534111023 | Validation mIoU: 0.990532398223877 | Validation Class IoU: [0.9896834 0.9913814]\n"
          ]
        },
        {
          "output_type": "stream",
          "name": "stderr",
          "text": [
            "Epoch: 44/50: 100%|██████████| 81/81 [00:47<00:00,  1.71it/s, loss=0.0053]\n"
          ]
        },
        {
          "output_type": "stream",
          "name": "stdout",
          "text": [
            "Train mIoU: 0.9914001226425171 | Validation mIoU: 0.9913389682769775 | Validation Class IoU: [0.99055785 0.9921201 ]\n"
          ]
        },
        {
          "output_type": "stream",
          "name": "stderr",
          "text": [
            "Epoch: 45/50: 100%|██████████| 81/81 [00:47<00:00,  1.70it/s, loss=0.00866]\n"
          ]
        },
        {
          "output_type": "stream",
          "name": "stdout",
          "text": [
            "Train mIoU: 0.9908790588378906 | Validation mIoU: 0.9911824464797974 | Validation Class IoU: [0.9903867 0.9919782]\n"
          ]
        },
        {
          "output_type": "stream",
          "name": "stderr",
          "text": [
            "Epoch: 46/50: 100%|██████████| 81/81 [00:47<00:00,  1.72it/s, loss=0.00705]\n"
          ]
        },
        {
          "output_type": "stream",
          "name": "stdout",
          "text": [
            "Train mIoU: 0.990611732006073 | Validation mIoU: 0.9915874004364014 | Validation Class IoU: [0.99082774 0.99234706]\n"
          ]
        },
        {
          "output_type": "stream",
          "name": "stderr",
          "text": [
            "Epoch: 47/50: 100%|██████████| 81/81 [00:47<00:00,  1.70it/s, loss=0.00903]\n"
          ]
        },
        {
          "output_type": "stream",
          "name": "stdout",
          "text": [
            "Train mIoU: 0.9911121129989624 | Validation mIoU: 0.9902864694595337 | Validation Class IoU: [0.9894187  0.99115425]\n"
          ]
        },
        {
          "output_type": "stream",
          "name": "stderr",
          "text": [
            "Epoch: 48/50: 100%|██████████| 81/81 [00:47<00:00,  1.72it/s, loss=0.00796]\n"
          ]
        },
        {
          "output_type": "stream",
          "name": "stdout",
          "text": [
            "Train mIoU: 0.99052894115448 | Validation mIoU: 0.9921677112579346 | Validation Class IoU: [0.99145794 0.99287754]\n"
          ]
        },
        {
          "output_type": "stream",
          "name": "stderr",
          "text": [
            "Epoch: 49/50: 100%|██████████| 81/81 [00:47<00:00,  1.71it/s, loss=0.00529]\n"
          ]
        },
        {
          "output_type": "stream",
          "name": "stdout",
          "text": [
            "Train mIoU: 0.9899943470954895 | Validation mIoU: 0.9916726350784302 | Validation Class IoU: [0.9909183  0.99242693]\n"
          ]
        },
        {
          "output_type": "stream",
          "name": "stderr",
          "text": [
            "Epoch: 50/50: 100%|██████████| 81/81 [00:47<00:00,  1.71it/s, loss=0.00875]\n"
          ]
        },
        {
          "output_type": "stream",
          "name": "stdout",
          "text": [
            "Train mIoU: 0.991165041923523 | Validation mIoU: 0.991457462310791 | Validation Class IoU: [0.9906841  0.99223083]\n"
          ]
        }
      ]
    },
    {
      "cell_type": "code",
      "source": [
        "# Plot training / validation metrics\n",
        "\n",
        "plot_train_val(MODEL_DIR, MODEL_NAME)"
      ],
      "metadata": {
        "id": "qJWJpvRVZ9Ci",
        "colab": {
          "base_uri": "https://localhost:8080/",
          "height": 1000
        },
        "outputId": "bc795842-f687-4e81-fe29-50aead5a80cb"
      },
      "execution_count": null,
      "outputs": [
        {
          "output_type": "display_data",
          "data": {
            "text/plain": [
              "<Figure size 640x480 with 1 Axes>"
            ],
            "image/png": "[encoded data removed]"
          },
          "metadata": {}
        },
        {
          "output_type": "display_data",
          "data": {
            "text/plain": [
              "<Figure size 640x480 with 1 Axes>"
            ],
            "image/png": "[encoded data removed]"
          },
          "metadata": {}
        },
        {
          "output_type": "display_data",
          "data": {
            "text/plain": [
              "<Figure size 640x480 with 1 Axes>"
            ],
            "image/png": "[encoded data removed]"
          },
          "metadata": {}
        }
      ]
    },
    {
      "cell_type": "code",
      "source": [
        "# Evaluate on the Test set\n",
        "\n",
        "TEST_DIR = \"saved_models/eval_test/\"\n",
        "# Change to load another model\n",
        "# MODEL_NAME = \"epochs2_batch8_h160_w240\"\n",
        "# Change to save read from another data split\n",
        "FILE_NAME = \"test_split.json\"\n",
        "\n",
        "# Trying with transform first\n",
        "val_transform = A.Compose(\n",
        "    [\n",
        "        A.Resize(height=IMAGE_HEIGHT, width=IMAGE_WIDTH),\n",
        "        A.Normalize(\n",
        "            mean=[0.0, 0.0, 0.0],\n",
        "            std=[1.0, 1.0, 1.0],\n",
        "            max_pixel_value=255.0\n",
        "        ),\n",
        "        ToTensorV2()\n",
        "    ]\n",
        ")\n",
        "\n",
        "# Retrieve test split for this model\n",
        "with open(f\"{MODEL_DIR}{FILE_NAME}\") as f:\n",
        "    test_json = f.read()\n",
        "# Create split list\n",
        "test_split = json.loads(test_json)\n",
        "\n",
        "# Load trained model\n",
        "model = UNET(in_channels=3, n_classes=N_CLASSES).to(DEVICE)\n",
        "load_checkpoint(model, MODEL_DIR, f\"{MODEL_NAME}.pth.tar\")\n",
        "\n",
        "# Create test ds + loader\n",
        "test_loader = get_loader(test_split, IMAGE_DIR, MASK_DIR, BATCH_SIZE,\n",
        "                        val_transform, NUM_WORKERS, PIN_MEMORY)\n",
        "\n",
        "# Evaluate mIoU and class IoU\n",
        "class_iou, miou = evaluate_model(test_loader, model, device=DEVICE)\n",
        "print(f\"----------------------------------------------------------------------------------------------------------------\")\n",
        "print(f\"Evaluating model on the test set | mIoU: {miou}\")\n",
        "print(f\"IoU class 0 (background): {class_iou[0]} | IoU class 1 (scope): {class_iou[1]}\")\n",
        "print(f\"----------------------------------------------------------------------------------------------------------------\")\n",
        "\n",
        "# Save metrics\n",
        "csv_path = os.path.join(TEST_DIR, f\"{MODEL_NAME}.csv\")\n",
        "write_to_csv(csv_path, val_miou=miou, class_iou=class_iou, test_set=True)\n",
        "\n",
        "# Save predictions and masks for inspection\n",
        "save_predictions_as_imgs(\n",
        "    test_loader, model, BATCH_SIZE, folder=f\"{TEST_DIR}/examples/\", device=DEVICE\n",
        ")"
      ],
      "metadata": {
        "id": "dkzGr5OJZdjH",
        "colab": {
          "base_uri": "https://localhost:8080/"
        },
        "outputId": "a27e77b8-047a-4214-f2d1-78b6026f3a30"
      },
      "execution_count": null,
      "outputs": [
        {
          "output_type": "stream",
          "name": "stdout",
          "text": [
            "=> Loading checkpoint\n",
            "Filename = epochs100_batch7_h720_w720_lr1e-05_RandomResizedCrops.pth.tar\n",
            "----------------------------------------------------------------------------------------------------------------\n",
            "Evaluating model on the test set | mIoU: 0.9928536415100098\n",
            "IoU class 0 (background): 0.9921934604644775 | IoU class 1 (scope): 0.9935137629508972\n",
            "----------------------------------------------------------------------------------------------------------------\n"
          ]
        }
      ]
    }
  ]
}